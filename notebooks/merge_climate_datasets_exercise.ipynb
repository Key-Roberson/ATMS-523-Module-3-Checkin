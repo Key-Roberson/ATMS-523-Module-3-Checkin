{
  "cells": [
    {
      "cell_type": "markdown",
      "metadata": {},
      "source": [
        "# Merging Climate Datasets Exercise\n",
        "\n",
        "Work through this notebook to practice harmonizing and merging two climate datasets that differ in temporal cadence and spatial resolution.\n",
        "\n",
        "You will: \n",
        "- Load two public NOAA datasets directly from the cloud\n",
        "- Subset to the continental US (use 230\u00b0E\u2013300\u00b0E in longitude since the data span 0\u2013360\u00b0)\n",
        "- Use `xr.resample` to aggregate time and `xr.interp` to match grids\n",
        "- Combine the variables with `xr.merge` for joint analysis\n",
        "\n",
        "Refer back to the answer key after attempting each step.\n"
      ]
    },
    {
      "cell_type": "markdown",
      "metadata": {},
      "source": [
        "## 1. Setup\n"
      ]
    },
    {
      "cell_type": "code",
      "execution_count": null,
      "metadata": {
        "tags": [
          "parameters"
        ]
      },
      "outputs": [],
      "source": [
        "import matplotlib.pyplot as plt\n",
        "import xarray as xr\n",
        "\n",
        "try:\n",
        "    import cartopy.crs as ccrs\n",
        "    import cartopy.feature as cfeature\n",
        "except ImportError:\n",
        "    ccrs = None\n",
        "    cfeature = None\n",
        "\n",
        "TEMP_URL = \"https://psl.noaa.gov/thredds/dodsC/Datasets/ncep.reanalysis/surface/air.sig995.2020.nc\"\n",
        "PRECIP_URL = \"https://psl.noaa.gov/thredds/dodsC/Datasets/cpc_global_precip/precip.2020.nc\"\n",
        "\n",
        "LAT_RANGE = (20, 50)  # degrees North\n",
        "LON_RANGE_360 = (230, 300)  # degrees East (equivalent to -130\u00b0 to -60\u00b0)\n",
        "LON_RANGE_180 = (-130, -60)  # convenience if a dataset uses -180\u00b0 to 180\u00b0\n",
        "\n",
        "TIME_RANGE = slice(\"2020-06-01\", \"2020-06-30\")\n"
      ]
    },
    {
      "cell_type": "markdown",
      "metadata": {},
      "source": [
        "## 2. Load the datasets\n",
        "\n",
        "Open both remote datasets with `xr.open_dataset`, passing a reasonable chunk size for the time dimension. Assign the resulting objects to `air` and `precip`.\n"
      ]
    },
    {
      "cell_type": "code",
      "execution_count": null,
      "metadata": {
        "tags": [
          "exercise"
        ]
      },
      "outputs": [],
      "source": [
        "# TODO: load the air temperature and precipitation datasets.\n",
        "# Example: air = xr.open_dataset(..., chunks={\"time\": 8})\n",
        "raise NotImplementedError(\"Assign datasets to `air` and `precip`.\")\n"
      ]
    },
    {
      "cell_type": "markdown",
      "metadata": {},
      "source": [
        "## 3. Subset to the continental United States and June 2020\n",
        "\n",
        "Select the bounding box provided above and limit the time range to June 2020 for both datasets. Store the results in `air_us` and `precip_us`.\n",
        "Remember that longitude runs from 0\u00b0 to 360\u00b0, so select 230\u00b0E\u2013300\u00b0E. Check whether each coordinate is ascending or descending before building the slice.\n"
      ]
    },
    {
      "cell_type": "code",
      "execution_count": null,
      "metadata": {
        "tags": [
          "exercise"
        ]
      },
      "outputs": [],
      "source": [
        "# TODO: subset both datasets using `sel`, handling coordinate ordering as needed.\n",
        "raise NotImplementedError(\"Create `air_us` and `precip_us`.\")\n"
      ]
    },
    {
      "cell_type": "markdown",
      "metadata": {},
      "source": [
        "## 4. Align temporal cadence\n",
        "\n",
        "Aggregate the six-hourly air temperatures to daily means with `xr.resample`. Name the resulting DataArray `air_daily`.\n"
      ]
    },
    {
      "cell_type": "code",
      "execution_count": null,
      "metadata": {
        "tags": [
          "exercise"
        ]
      },
      "outputs": [],
      "source": [
        "# TODO: use xr.resample to create daily means.\n",
        "raise NotImplementedError(\"Create `air_daily`.\")\n"
      ]
    },
    {
      "cell_type": "markdown",
      "metadata": {},
      "source": [
        "## 5. Interpolate to the precipitation grid\n",
        "\n",
        "Use `xr.interp` to interpolate the daily air temperatures onto the precipitation grid (`precip_us.lat` and `precip_us.lon`). Store the interpolated result in `air_interp`.\n"
      ]
    },
    {
      "cell_type": "code",
      "execution_count": null,
      "metadata": {
        "tags": [
          "exercise"
        ]
      },
      "outputs": [],
      "source": [
        "# TODO: interpolate the resampled temperature field onto the precipitation grid.\n",
        "raise NotImplementedError(\"Create `air_interp`.\")\n"
      ]
    },
    {
      "cell_type": "markdown",
      "metadata": {},
      "source": [
        "## 6. Merge the datasets\n",
        "\n",
        "Convert the aligned arrays into datasets with clear variable names and merge them with `xr.merge`. Save the output as `merged`.\n"
      ]
    },
    {
      "cell_type": "code",
      "execution_count": null,
      "metadata": {
        "tags": [
          "exercise"
        ]
      },
      "outputs": [],
      "source": [
        "# TODO: build datasets and merge them into one object named `merged`.\n",
        "raise NotImplementedError(\"Create `merged`.\")\n"
      ]
    },
    {
      "cell_type": "markdown",
      "metadata": {},
      "source": [
        "## 7. Inspect your result\n",
        "\n",
        "Once your pipeline runs without `NotImplementedError`, evaluate the following cell to sanity-check the merged dataset.\n"
      ]
    },
    {
      "cell_type": "code",
      "execution_count": null,
      "metadata": {
        "tags": [
          "validation"
        ]
      },
      "outputs": [],
      "source": [
        "# The assertions below should pass once you have completed the exercise.\n",
        "assert set(merged.data_vars) == {\"air_temperature\", \"daily_precip\"}\n",
        "assert merged.air_temperature.dims == merged.daily_precip.dims\n",
        "print(merged)\n"
      ]
    },
    {
      "cell_type": "markdown",
      "metadata": {},
      "source": [
        "## 8. Go further (optional)\n",
        "\n",
        "- Render both variables on a `cartopy` map to verify alignment visually (PlateCarree works well).\n",
        "- Build a scatter plot comparing colocated temperature and precipitation values across the merged domain.\n",
        "- Save the merged output with `to_netcdf` for future analysis.\n"
      ]
    }
  ],
  "metadata": {
    "kernelspec": {
      "display_name": "Python 3",
      "language": "python",
      "name": "python3"
    },
    "language_info": {
      "name": "python",
      "version": "3.10"
    }
  },
  "nbformat": 4,
  "nbformat_minor": 5
}