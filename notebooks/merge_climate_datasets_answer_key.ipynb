{
  "cells": [
    {
      "cell_type": "markdown",
      "metadata": {},
      "source": [
        "# Merging Climate Datasets Answer Key\n",
        "\n",
        "This notebook demonstrates how to merge two gridded climate datasets that differ in their spatial and temporal resolutions using `xarray`. We will:\n",
        "\n",
        "- Access two public NOAA datasets from THREDDS servers\n",
        "- Harmonize their coordinates and resolutions with `xr.resample` and `xr.interp`\n",
        "- Merge them into a single dataset with `xr.merge` for joint analysis\n"
      ]
    },
    {
      "cell_type": "markdown",
      "metadata": {},
      "source": [
        "## 1. Imports and configuration\n"
      ]
    },
    {
      "cell_type": "code",
      "execution_count": null,
      "metadata": {
        "tags": [
          "parameters"
        ]
      },
      "outputs": [],
      "source": [
        "import matplotlib.pyplot as plt\n",
        "import xarray as xr\n",
        "\n",
        "try:\n",
        "    import cartopy.crs as ccrs\n",
        "    import cartopy.feature as cfeature\n",
        "except ImportError:\n",
        "    ccrs = None\n",
        "    cfeature = None\n",
        "\n",
        "TEMP_URL = \"https://psl.noaa.gov/thredds/dodsC/Datasets/ncep.reanalysis/surface/air.sig995.2020.nc\"\n",
        "PRECIP_URL = \"https://psl.noaa.gov/thredds/dodsC/Datasets/cpc_global_precip/precip.2020.nc\"\n",
        "\n",
        "LAT_RANGE = (20, 50)  # degrees North\n",
        "LON_RANGE_360 = (230, 300)  # degrees East (equivalent to -130\u00b0 to -60\u00b0)\n",
        "LON_RANGE_180 = (-130, -60)  # degrees relative to Greenwich\n",
        "\n",
        "TIME_RANGE = slice(\"2020-06-01\", \"2020-06-30\")\n"
      ]
    },
    {
      "cell_type": "markdown",
      "metadata": {},
      "source": [
        "The two datasets we will use are:\n",
        "\n",
        "- **NCEP/NCAR Reanalysis 1** surface air temperature (`air.sig995`), available every 6 hours on a 2.5\u00b0 grid.\n",
        "- **CPC Global Unified Gauge-based Analysis** of daily precipitation, available daily on a 0.5\u00b0 grid.\n",
        "\n",
        "Both datasets cover the United States, differ in temporal cadence and spatial resolution, and already share the same 0\u2013360\u00b0 longitude convention. Our goal is to create a merged dataset containing daily mean temperature and precipitation on a common 0.5\u00b0 grid.\n"
      ]
    },
    {
      "cell_type": "markdown",
      "metadata": {},
      "source": [
        "## 2. Open the remote datasets\n",
        "\n",
        "`xarray` can lazily stream data from remote THREDDS servers using `open_dataset`. We apply simple chunking to keep operations memory-friendly.\n"
      ]
    },
    {
      "cell_type": "code",
      "execution_count": null,
      "metadata": {
        "tags": [
          "data-loading"
        ]
      },
      "outputs": [],
      "source": [
        "air = xr.open_dataset(TEMP_URL, chunks={\"time\": 8})\n",
        "precip = xr.open_dataset(PRECIP_URL, chunks={\"time\": 31})\n",
        "\n",
        "air, precip\n"
      ]
    },
    {
      "cell_type": "markdown",
      "metadata": {},
      "source": [
        "## 3. Spatial and temporal subsetting\n",
        "\n",
        "To reduce data volume, we focus on June 2020 over the continental United States.\n",
        "\n",
        "Because both products express longitude from 0\u00b0 to 360\u00b0, the continental US spans roughly 230\u00b0E\u2013300\u00b0E. The helper below adapts to each dataset's coordinate ordering.\n"
      ]
    },
    {
      "cell_type": "code",
      "execution_count": null,
      "metadata": {
        "tags": [
          "subset"
        ]
      },
      "outputs": [],
      "source": [
        "def oriented_slice(coord, bounds):\n",
        "    values = coord.to_numpy()\n",
        "    start, end = bounds\n",
        "    forward = float(values[0]) < float(values[-1])\n",
        "    return slice(start, end) if forward else slice(end, start)\n",
        "\n",
        "def select_lon_bounds(coord):\n",
        "    values = coord.to_numpy()\n",
        "    bounds = LON_RANGE_360 if float(values.min()) >= 0 else LON_RANGE_180\n",
        "    return oriented_slice(coord, bounds)\n",
        "\n",
        "air_us = air.sel(\n",
        "    time=TIME_RANGE,\n",
        "    lat=oriented_slice(air.lat, LAT_RANGE),\n",
        "    lon=select_lon_bounds(air.lon),\n",
        ")\n",
        "precip_us = precip.sel(\n",
        "    time=TIME_RANGE,\n",
        "    lat=oriented_slice(precip.lat, LAT_RANGE),\n",
        "    lon=select_lon_bounds(precip.lon),\n",
        ")\n",
        "\n",
        "air_us, precip_us\n"
      ]
    },
    {
      "cell_type": "markdown",
      "metadata": {},
      "source": [
        "## 4. Match temporal resolution with `xr.resample`\n",
        "\n",
        "The air temperature is reported every six hours. We compute daily means to match the precipitation cadence using `xr.resample(time=\"1D\")`.\n"
      ]
    },
    {
      "cell_type": "code",
      "execution_count": null,
      "metadata": {
        "tags": [
          "temporal-alignment"
        ]
      },
      "outputs": [],
      "source": [
        "air_daily = air_us[\"air\"].resample(time=\"1D\").mean()\n",
        "air_daily\n"
      ]
    },
    {
      "cell_type": "markdown",
      "metadata": {},
      "source": [
        "## 5. Match spatial resolution with `xr.interp`\n",
        "\n",
        "The precipitation grid is denser (0.5\u00b0). Interpolate the coarser air temperature field onto the precipitation grid.\n"
      ]
    },
    {
      "cell_type": "code",
      "execution_count": null,
      "metadata": {
        "tags": [
          "spatial-alignment"
        ]
      },
      "outputs": [],
      "source": [
        "air_interp = air_daily.interp(lat=precip_us.lat, lon=precip_us.lon)\n",
        "air_interp\n"
      ]
    },
    {
      "cell_type": "markdown",
      "metadata": {},
      "source": [
        "## 6. Merge the harmonized datasets\n",
        "\n",
        "Once the data share the same grid and cadence, `xr.merge` combines them into a single dataset.\n"
      ]
    },
    {
      "cell_type": "code",
      "execution_count": null,
      "metadata": {
        "tags": [
          "merge"
        ]
      },
      "outputs": [],
      "source": [
        "air_ds = air_interp.to_dataset(name=\"air_temperature\")\n",
        "precip_ds = precip_us[\"precip\"].to_dataset(name=\"daily_precip\")\n",
        "\n",
        "merged = xr.merge([air_ds, precip_ds])\n",
        "merged\n"
      ]
    },
    {
      "cell_type": "markdown",
      "metadata": {},
      "source": [
        "## 7. Quick sanity checks\n",
        "\n",
        "We confirm that both variables now have identical dimensions and a few simple statistics look reasonable.\n"
      ]
    },
    {
      "cell_type": "code",
      "execution_count": null,
      "metadata": {
        "tags": [
          "validation"
        ]
      },
      "outputs": [],
      "source": [
        "print(dict(merged.dims))\n",
        "temp_min = float(merged.air_temperature.min().compute())\n",
        "temp_max = float(merged.air_temperature.max().compute())\n",
        "precip_min = float(merged.daily_precip.min().compute())\n",
        "precip_max = float(merged.daily_precip.max().compute())\n",
        "print(temp_min, temp_max)\n",
        "print(precip_min, precip_max)\n"
      ]
    },
    {
      "cell_type": "markdown",
      "metadata": {},
      "source": [
        "## 8. Example visualization (optional)\n",
        "\n",
        "Plotting provides a visual confirmation that the merged grid is consistent.\n",
        "The cartopy map below renders both fields on a shared projection, and the scatter\n",
        "plot compares collocated temperature and precipitation values.\n"
      ]
    },
    {
      "cell_type": "code",
      "execution_count": null,
      "metadata": {
        "tags": [
          "visualization"
        ],
        "nbsphinx": "hidden"
      },
      "outputs": [],
      "source": [
        "if ccrs is None:\n",
        "    raise ImportError(\"Install cartopy to render the projected map (e.g., pip install cartopy).\")\n",
        "\n",
        "temp_slice = merged.air_temperature.isel(time=0).compute()\n",
        "precip_slice = merged.daily_precip.isel(time=0).compute()\n",
        "\n",
        "west, east = (LON_RANGE_360[0] - 360, LON_RANGE_360[1] - 360)\n",
        "south, north = LAT_RANGE\n",
        "\n",
        "fig, axes = plt.subplots(\n",
        "    1,\n",
        "    2,\n",
        "    figsize=(12, 4),\n",
        "    subplot_kw={\"projection\": ccrs.PlateCarree()},\n",
        "    constrained_layout=True,\n",
        ")\n",
        "\n",
        "_ = temp_slice.plot(\n",
        "    ax=axes[0],\n",
        "    transform=ccrs.PlateCarree(),\n",
        "    cmap=\"coolwarm\",\n",
        "    robust=True,\n",
        "    add_colorbar=True,\n",
        "    cbar_kwargs={\"shrink\": 0.75, \"label\": \"K\"},\n",
        ")\n",
        "axes[0].set_title(\"Surface air temperature (first day)\")\n",
        "axes[0].set_extent([west, east, south, north], crs=ccrs.PlateCarree())\n",
        "axes[0].coastlines(resolution=\"50m\", linewidth=0.8)\n",
        "if cfeature is not None:\n",
        "    try:\n",
        "        axes[0].add_feature(cfeature.STATES.with_scale(\"50m\"), linewidth=0.4, edgecolor=\"black\")\n",
        "    except Exception:\n",
        "        pass\n",
        "\n",
        "_ = precip_slice.plot(\n",
        "    ax=axes[1],\n",
        "    transform=ccrs.PlateCarree(),\n",
        "    cmap=\"Blues\",\n",
        "    robust=True,\n",
        "    add_colorbar=True,\n",
        "    cbar_kwargs={\"shrink\": 0.75, \"label\": \"mm/day\"},\n",
        ")\n",
        "axes[1].set_title(\"Daily precipitation (first day)\")\n",
        "axes[1].set_extent([west, east, south, north], crs=ccrs.PlateCarree())\n",
        "axes[1].coastlines(resolution=\"50m\", linewidth=0.8)\n",
        "if cfeature is not None:\n",
        "    try:\n",
        "        axes[1].add_feature(cfeature.STATES.with_scale(\"50m\"), linewidth=0.4, edgecolor=\"black\")\n",
        "    except Exception:\n",
        "        pass\n",
        "\n",
        "stacked = merged[[\"air_temperature\", \"daily_precip\"]].stack(point=(\"time\", \"lat\", \"lon\"))\n",
        "stacked = stacked.dropna(dim=\"point\", how=\"any\").compute()\n",
        "temp_vals = stacked.air_temperature.values\n",
        "precip_vals = stacked.daily_precip.values\n",
        "\n",
        "scatter_fig, scatter_ax = plt.subplots(figsize=(5, 4), constrained_layout=True)\n",
        "scatter_ax.scatter(temp_vals, precip_vals, s=8, alpha=0.25, edgecolor=\"none\")\n",
        "scatter_ax.set_xlabel(\"Surface air temperature (K)\")\n",
        "scatter_ax.set_ylabel(\"Daily precipitation (mm/day)\")\n",
        "scatter_ax.set_title(\"Collocated temperature vs precipitation\")\n"
      ]
    },
    {
      "cell_type": "markdown",
      "metadata": {},
      "source": [
        "## 9. Save merged dataset (optional)\n",
        "\n",
        "Persist the merged result locally if you plan further analysis.\n"
      ]
    },
    {
      "cell_type": "code",
      "execution_count": null,
      "metadata": {
        "tags": [
          "export"
        ],
        "nbsphinx": "hidden"
      },
      "outputs": [],
      "source": [
        "# merged.to_netcdf(\"data/merged_air_precip_june2020.nc\")\n"
      ]
    }
  ],
  "metadata": {
    "kernelspec": {
      "display_name": "Python 3",
      "language": "python",
      "name": "python3"
    },
    "language_info": {
      "name": "python",
      "version": "3.10"
    }
  },
  "nbformat": 4,
  "nbformat_minor": 5
}